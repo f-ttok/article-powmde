{
 "cells": [
  {
   "cell_type": "code",
   "execution_count": 1,
   "metadata": {},
   "outputs": [],
   "source": [
    "using DelimitedFiles"
   ]
  },
  {
   "cell_type": "code",
   "execution_count": 3,
   "metadata": {},
   "outputs": [
    {
     "data": {
      "text/plain": [
       "powm_de"
      ]
     },
     "execution_count": 3,
     "metadata": {},
     "output_type": "execute_result"
    }
   ],
   "source": [
    "include(\"../algorithms/de.jl\")"
   ]
  },
  {
   "cell_type": "code",
   "execution_count": 15,
   "metadata": {},
   "outputs": [
    {
     "data": {
      "text/plain": [
       "speed_de (generic function with 1 method)"
      ]
     },
     "execution_count": 15,
     "metadata": {},
     "output_type": "execute_result"
    }
   ],
   "source": [
    "function speed_gj1(κ, α)\n",
    "    numerator = 1 + κ^(α/2) + sqrt(2*κ^(α/2)*(1-cos(α*π)))\n",
    "    denominator = sqrt(1 + κ^α + 2*κ^(α/2) * cos(α*π))\n",
    "    τ = numerator / denominator\n",
    "    return 2 * log(τ)\n",
    "end\n",
    "\n",
    "\n",
    "function speed_gj2(κ, α)\n",
    "    τ = (1 + κ^(1/4)) / (κ^(1/4) - 1)\n",
    "    return 2 * log(τ)\n",
    "end\n",
    "\n",
    "\n",
    "function speed_de(κ, α)\n",
    "    λmax = sqrt(κ)\n",
    "    norm_A = λmax\n",
    "    norm_A_inv = λmax\n",
    "    ϵ = 2.0^(-53) * λmax^α\n",
    "    l, r = get_interval(norm_A, norm_A_inv, α, ϵ)\n",
    "    μ = log(λmax)^2 + 5*π^2/4\n",
    "    d0 = asin(sqrt(μ - sqrt(μ^2 - π^4)) / sqrt(π^2/2))\n",
    "    return 2π * d0 / (r-l)\n",
    "end"
   ]
  },
  {
   "cell_type": "code",
   "execution_count": 6,
   "metadata": {},
   "outputs": [],
   "source": [
    "κ = 10.0 .^ LinRange(0, 16, 101)[2:end]\n",
    "Data = Array{Any, 2}(undef, length(κ)+1, 24)\n",
    "Data .= \"\"\n",
    "\n",
    "Data[1,1] = \"κ\"\n",
    "Data[2:end,1] .= κ\n",
    "\n",
    "j = 2\n",
    "for αx10 = 1:9\n",
    "    α = αx10/10\n",
    "    Data[1,j] = \"de_$(αx10)\"\n",
    "    Data[2:end,j] .= speed_de.(κ,α)\n",
    "    j += 1\n",
    "end\n",
    "\n",
    "for αx10 = [1,2,5]\n",
    "    α = αx10/10\n",
    "    Data[1,j] = \"gj1_$(αx10)\"\n",
    "    Data[2:end,j] .= speed_gj1.(κ,α)\n",
    "    j += 1\n",
    "end\n",
    "\n",
    "for αx10 = 1:9\n",
    "    α = αx10/10\n",
    "    Data[1,j] = \"gj2_$(αx10)\"\n",
    "    Data[2:end,j] .= speed_gj2.(κ,α)\n",
    "    j += 1\n",
    "end\n",
    "\n",
    "writedlm(\"data-fig2.csv\", Data, ',')"
   ]
  },
  {
   "cell_type": "code",
   "execution_count": 8,
   "metadata": {},
   "outputs": [
    {
     "data": {
      "text/plain": [
       "search_intersection (generic function with 1 method)"
      ]
     },
     "execution_count": 8,
     "metadata": {},
     "output_type": "execute_result"
    }
   ],
   "source": [
    "function search_intersection(f1, f2, l, r)\n",
    "    g(x) = f1(exp(x)) - f2(exp(x))\n",
    "    left, right = log(l), log(r)\n",
    "    center = (left + right) / 2\n",
    "    dx = right - left\n",
    "    while dx > 1e-6\n",
    "        if g(center) > 0\n",
    "            right = center\n",
    "        else\n",
    "            left = center\n",
    "        end\n",
    "        center = (left + right) / 2\n",
    "        dx = right - left\n",
    "    end\n",
    "    \n",
    "    return exp(center)\n",
    "end"
   ]
  },
  {
   "cell_type": "code",
   "execution_count": 11,
   "metadata": {},
   "outputs": [],
   "source": [
    "Data = Array{Any,2}(undef, 10, 3)\n",
    "Data .= \"\"\n",
    "Data[1,:] .= [\"αx10\", \"κ\", \"ϕ\"]\n",
    "Data[2:end, 1] .= 1:9\n",
    "\n",
    "for αx10 = 1:9\n",
    "    α = αx10 / 10\n",
    "    gj2(κ) = speed_gj2(κ, α)\n",
    "    de(κ) = speed_de(κ, α)\n",
    "    κ = search_intersection(de, gj2, 1.1, 1e8)\n",
    "    ϕ = de(κ)\n",
    "    Data[αx10+1, 2] = κ\n",
    "    Data[αx10+1, 3] = ϕ\n",
    "end\n",
    "\n",
    "writedlm(\"data-fig2_de-gj2.csv\", Data, \",\")"
   ]
  },
  {
   "cell_type": "code",
   "execution_count": 25,
   "metadata": {},
   "outputs": [
    {
     "name": "stdout",
     "output_type": "stream",
     "text": [
      "α = 0.1\n",
      "\n",
      "intersection of GJ1 and GJ2: 29766.681124347448\n",
      "gj1(center) = 0.30511851930249284\n",
      "gj2(center) = 0.3051185219051628\n",
      "\n",
      "intersection of GJ1 and DE: 83803.09591177752\n",
      "gj1(center) = 0.3030087861429877\n",
      "de(center) = 0.3030087829759538\n",
      "\n",
      "intersection of GJ2 and DE: 19864.15534626776\n",
      "gj2(center) = 0.33773243680884724\n",
      "de(center) = 0.3377324192983883\n"
     ]
    }
   ],
   "source": [
    "α = 0.1\n",
    "@show α\n",
    "gj1(κ) = speed_gj1(κ, α)\n",
    "gj2(κ) = speed_gj2(κ, α)\n",
    "de(κ) = speed_de(κ, α)\n",
    "l, r = 1e1, 1e8\n",
    "\n",
    "println()\n",
    "\n",
    "center = search_intersection(gj1, gj2, l, r)\n",
    "println(\"intersection of GJ1 and GJ2: $(center)\")\n",
    "@show gj1(center)\n",
    "@show gj2(center)\n",
    "\n",
    "println()\n",
    "\n",
    "center = search_intersection(gj1, de, l, r)\n",
    "println(\"intersection of GJ1 and DE: $(center)\")\n",
    "@show gj1(center)\n",
    "@show de(center)\n",
    "\n",
    "println()\n",
    "\n",
    "center = search_intersection(de, gj2, l, r)\n",
    "println(\"intersection of GJ2 and DE: $(center)\")\n",
    "@show gj2(center)\n",
    "@show de(center)\n",
    ";"
   ]
  },
  {
   "cell_type": "code",
   "execution_count": 26,
   "metadata": {},
   "outputs": [
    {
     "name": "stdout",
     "output_type": "stream",
     "text": [
      "α = 0.2\n",
      "\n",
      "intersection of GJ1 and GJ2: 2147.3122535758243\n",
      "gj1(center) = 0.5918884062497789\n",
      "gj2(center) = 0.591888400432844\n",
      "\n",
      "intersection of GJ1 and DE: 57.64958157575771\n",
      "gj1(center) = 0.625142380753972\n",
      "de(center) = 0.6251423984453721\n",
      "\n",
      "intersection of GJ2 and DE: 14128.813256192723\n",
      "gj2(center) = 0.36792214548890884\n",
      "de(center) = 0.3679221241452111\n"
     ]
    }
   ],
   "source": [
    "α = 0.2\n",
    "@show α\n",
    "gj1(κ) = speed_gj1(κ, α)\n",
    "gj2(κ) = speed_gj2(κ, α)\n",
    "de(κ) = speed_de(κ, α)\n",
    "l, r = 1e1, 1e8\n",
    "\n",
    "println()\n",
    "\n",
    "center = search_intersection(gj1, gj2, l, r)\n",
    "println(\"intersection of GJ1 and GJ2: $(center)\")\n",
    "@show gj1(center)\n",
    "@show gj2(center)\n",
    "\n",
    "println()\n",
    "\n",
    "center = search_intersection(gj1, de, l, r)\n",
    "println(\"intersection of GJ1 and DE: $(center)\")\n",
    "@show gj1(center)\n",
    "@show de(center)\n",
    "\n",
    "println()\n",
    "\n",
    "center = search_intersection(de, gj2, l, r)\n",
    "println(\"intersection of GJ2 and DE: $(center)\")\n",
    "@show gj2(center)\n",
    "@show de(center)\n",
    ";"
   ]
  },
  {
   "cell_type": "code",
   "execution_count": 18,
   "metadata": {},
   "outputs": [
    {
     "name": "stdout",
     "output_type": "stream",
     "text": [
      "α = 0.3\n",
      "\n",
      "intersection of GJ1 and DE: 11843.057214083507\n",
      "gj2(center) = 0.38461799971585536\n",
      "de(center) = 0.38461798051224655\n"
     ]
    }
   ],
   "source": [
    "α = 0.3\n",
    "@show α\n",
    "gj2(κ) = speed_gj2(κ, α)\n",
    "de(κ) = speed_de(κ, α)\n",
    "l, r = 1e1, 1e8\n",
    "\n",
    "println()\n",
    "\n",
    "center = search_intersection(de, gj2, l, r)\n",
    "println(\"intersection of GJ1 and DE: $(center)\")\n",
    "@show gj2(center)\n",
    "@show de(center)\n",
    ";"
   ]
  },
  {
   "cell_type": "code",
   "execution_count": 19,
   "metadata": {},
   "outputs": [
    {
     "name": "stdout",
     "output_type": "stream",
     "text": [
      "α = 0.4\n",
      "\n",
      "intersection of GJ1 and DE: 10753.088285179623\n",
      "gj2(center) = 0.394074735243287\n",
      "de(center) = 0.39407472232858115\n"
     ]
    }
   ],
   "source": [
    "α = 0.4\n",
    "@show α\n",
    "gj2(κ) = speed_gj2(κ, α)\n",
    "de(κ) = speed_de(κ, α)\n",
    "l, r = 1e1, 1e8\n",
    "\n",
    "println()\n",
    "\n",
    "center = search_intersection(de, gj2, l, r)\n",
    "println(\"intersection of GJ1 and DE: $(center)\")\n",
    "@show gj2(center)\n",
    "@show de(center)\n",
    ";"
   ]
  },
  {
   "cell_type": "code",
   "execution_count": 20,
   "metadata": {},
   "outputs": [
    {
     "name": "stdout",
     "output_type": "stream",
     "text": [
      "α = 0.5\n",
      "\n",
      "intersection of GJ1 and GJ2: 69.76276248003785\n",
      "gj1(center) = 1.4436354592705454\n",
      "gj2(center) = 1.4436354236985864\n",
      "\n",
      "intersection of GJ1 and DE: 1.9328345587502728e9\n",
      "gj1(center) = 0.19501935474035653\n",
      "de(center) = 0.19501935675956694\n"
     ]
    },
    {
     "data": {
      "text/plain": [
       "0.19501935675956694"
      ]
     },
     "execution_count": 20,
     "metadata": {},
     "output_type": "execute_result"
    }
   ],
   "source": [
    "α = 0.5\n",
    "@show α\n",
    "gj1(κ) = speed_gj1(κ, α)\n",
    "gj2(κ) = speed_gj2(κ, α)\n",
    "de(κ) = speed_de(κ, α)\n",
    "\n",
    "println()\n",
    "\n",
    "center = search_intersection(gj1, gj2, 1.1, 1e8)\n",
    "println(\"intersection of GJ1 and GJ2: $(center)\")\n",
    "@show gj1(center)\n",
    "@show gj2(center)\n",
    "\n",
    "println()\n",
    "\n",
    "center = search_intersection(de, gj1, 1e8, 1e12)\n",
    "println(\"intersection of GJ1 and DE: $(center)\")\n",
    "@show gj1(center)\n",
    "@show de(center)"
   ]
  },
  {
   "cell_type": "code",
   "execution_count": 21,
   "metadata": {},
   "outputs": [
    {
     "name": "stdout",
     "output_type": "stream",
     "text": [
      "α = 0.6\n",
      "\n",
      "intersection of GJ1 and DE: 10414.87284231558\n",
      "gj2(center) = 0.3972565622514661\n",
      "de(center) = 0.3972565506848587\n"
     ]
    }
   ],
   "source": [
    "α = 0.6\n",
    "@show α\n",
    "gj2(κ) = speed_gj2(κ, α)\n",
    "de(κ) = speed_de(κ, α)\n",
    "l, r = 1e1, 1e8\n",
    "\n",
    "println()\n",
    "\n",
    "center = search_intersection(de, gj2, l, r)\n",
    "println(\"intersection of GJ1 and DE: $(center)\")\n",
    "@show gj2(center)\n",
    "@show de(center)\n",
    ";"
   ]
  },
  {
   "cell_type": "code",
   "execution_count": 22,
   "metadata": {},
   "outputs": [
    {
     "name": "stdout",
     "output_type": "stream",
     "text": [
      "α = 0.7\n",
      "\n",
      "intersection of GJ1 and DE: 11111.933385981134\n",
      "gj2(center) = 0.39083331059860216\n",
      "de(center) = 0.39083331835582374\n"
     ]
    }
   ],
   "source": [
    "α = 0.7\n",
    "@show α\n",
    "gj2(κ) = speed_gj2(κ, α)\n",
    "de(κ) = speed_de(κ, α)\n",
    "l, r = 1e1, 1e8\n",
    "\n",
    "println()\n",
    "\n",
    "center = search_intersection(de, gj2, l, r)\n",
    "println(\"intersection of GJ1 and DE: $(center)\")\n",
    "@show gj2(center)\n",
    "@show de(center)\n",
    ";"
   ]
  },
  {
   "cell_type": "code",
   "execution_count": 23,
   "metadata": {},
   "outputs": [
    {
     "name": "stdout",
     "output_type": "stream",
     "text": [
      "α = 0.8\n",
      "\n",
      "intersection of GJ1 and DE: 12848.605431698184\n",
      "gj2(center) = 0.3768148693344577\n",
      "de(center) = 0.3768148775270426\n"
     ]
    }
   ],
   "source": [
    "α = 0.8\n",
    "@show α\n",
    "gj2(κ) = speed_gj2(κ, α)\n",
    "de(κ) = speed_de(κ, α)\n",
    "l, r = 1e1, 1e8\n",
    "\n",
    "println()\n",
    "\n",
    "center = search_intersection(de, gj2, l, r)\n",
    "println(\"intersection of GJ1 and DE: $(center)\")\n",
    "@show gj2(center)\n",
    "@show de(center)\n",
    ";"
   ]
  },
  {
   "cell_type": "code",
   "execution_count": 24,
   "metadata": {},
   "outputs": [
    {
     "name": "stdout",
     "output_type": "stream",
     "text": [
      "α = 0.9\n",
      "\n",
      "intersection of GJ1 and DE: 17531.31279714591\n",
      "gj2(center) = 0.34850042984392005\n",
      "de(center) = 0.34850045349682884\n"
     ]
    }
   ],
   "source": [
    "α = 0.9\n",
    "@show α\n",
    "gj2(κ) = speed_gj2(κ, α)\n",
    "de(κ) = speed_de(κ, α)\n",
    "l, r = 1e1, 1e8\n",
    "\n",
    "println()\n",
    "\n",
    "center = search_intersection(de, gj2, l, r)\n",
    "println(\"intersection of GJ1 and DE: $(center)\")\n",
    "@show gj2(center)\n",
    "@show de(center)\n",
    ";"
   ]
  }
 ],
 "metadata": {
  "kernelspec": {
   "display_name": "Julia 1.5.1",
   "language": "julia",
   "name": "julia-1.5"
  },
  "language_info": {
   "file_extension": ".jl",
   "mimetype": "application/julia",
   "name": "julia",
   "version": "1.5.1"
  }
 },
 "nbformat": 4,
 "nbformat_minor": 4
}
