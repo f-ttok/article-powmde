{
 "cells": [
  {
   "cell_type": "code",
   "execution_count": 2,
   "metadata": {},
   "outputs": [],
   "source": [
    "using CSV\n",
    "using Printf"
   ]
  },
  {
   "cell_type": "code",
   "execution_count": 3,
   "metadata": {},
   "outputs": [
    {
     "name": "stdout",
     "output_type": "stream",
     "text": [
      "Matrix & $\\alpha$ & \\multicolumn{2}{|c}{\\texttt{GJ1}} & \\multicolumn{2}{|c}{\\texttt{GJ2}} & \\multicolumn{2}{|c}{\\texttt{GJ2pre}} & \\multicolumn{2}{|c}{\\texttt{DE}} & \\multicolumn{2}{|c}{\\texttt{Cauchy}}\\\\\n",
      "\\hline\n",
      "\\texttt{s2rmt3m1} & 0.2 & \\textbf{0.59} & (\\textbf{39}) & 7.20 & (511) & 6.38 & (451) & 1.07 & (73) & 1.30 & (21)\\\\\n",
      "\\texttt{s2rmt3m1} & 0.8 & \\underline{14.37} & (\\underline{1000}) & 10.55 & (731) & 6.98 & (485) & \\textbf{1.52} & (\\textbf{95}) & 1.90 & (31)\\\\\n",
      "\\texttt{fv3} & 0.2 & 0.30 & (23) & 0.30 & (24) & \\textbf{0.28} & (\\textbf{23}) & 0.36 & (30) & 0.41 & (11)\\\\\n",
      "\\texttt{fv3} & 0.8 & 2.10 & (193) & 0.32 & (26) & \\textbf{0.26} & (\\textbf{21}) & 0.38 & (29) & 0.38 & (10)\\\\\n",
      "\\texttt{poisson200} & 0.2 & \\textbf{1.43} & (\\textbf{25}) & 1.82 & (41) & 1.69 & (38) & 1.59 & (33) & 2.01 & (13)\\\\\n",
      "\\texttt{poisson200} & 0.8 & 14.34 & (352) & 1.97 & (45) & \\textbf{1.55} & (\\textbf{34}) & 1.65 & (33) & 1.91 & (12)\\\\\n",
      "\\hline\n"
     ]
    }
   ],
   "source": [
    "print(\"Matrix & \\$\\\\alpha\\$\")\n",
    "for m in [\"GJ1\", \"GJ2\", \"GJ2pre\", \"DE\", \"Cauchy\"]\n",
    "    print(\" & \\\\multicolumn{2}{|c}{\\\\texttt{$(m)}}\")\n",
    "end\n",
    "println(\"\\\\\\\\\")\n",
    "println(\"\\\\hline\")\n",
    "\n",
    "\n",
    "# SPD\n",
    "T = CSV.File(\"../result/test5_spd.csv\")\n",
    "\n",
    "for i = 3:8\n",
    "    c = collect(T[i])\n",
    "    matname = c[1]\n",
    "    α = c[2]\n",
    "    \n",
    "    print(\"\\\\texttt{$(replace.(matname, \"_\"=>\"\\\\_\"))} & $(α)\")\n",
    "    fastest = argmin(c[3:2:11])\n",
    "    for k = 1:5\n",
    "        if k == fastest\n",
    "            @printf(\" & \\\\textbf{%.2f} & (\\\\textbf{%d})\", c[2k+1], c[2k+2])\n",
    "        elseif c[2k+2] >= 1000\n",
    "            @printf(\" & \\\\underline{%.2f} & (\\\\underline{%d})\", c[2k+1], c[2k+2])\n",
    "        else\n",
    "            @printf(\" & %.2f & (%d)\", c[2k+1], c[2k+2])\n",
    "        end\n",
    "    end\n",
    "    print(\"\\\\\\\\\")\n",
    "    println()\n",
    "end\n",
    "println(\"\\\\hline\")"
   ]
  },
  {
   "cell_type": "code",
   "execution_count": 4,
   "metadata": {},
   "outputs": [
    {
     "name": "stdout",
     "output_type": "stream",
     "text": [
      "Matrix & $\\alpha$ & \\multicolumn{2}{|c}{\\texttt{GJ1}} & \\multicolumn{2}{|c}{\\texttt{GJ2}} & \\multicolumn{2}{|c}{\\texttt{DE}}\\\\\n",
      "\\hline\n",
      "\\texttt{cell1} & 0.2 & 4.00 & (248) & \\underline{15.86} & (\\underline{1016}) & \\textbf{3.55} & (\\textbf{225})\\\\\n",
      "\\texttt{cell1} & 0.8 & \\underline{15.88} & (\\underline{1016}) & \\underline{15.87} & (\\underline{1016}) & \\textbf{3.60} & (\\textbf{225})\\\\\n",
      "\\texttt{TSOPF\\_RS\\_b9\\_c6} & 0.2 & 0.93 & (120) & 1.93 & (248) & \\textbf{0.88} & (\\textbf{113})\\\\\n",
      "\\texttt{TSOPF\\_RS\\_b9\\_c6} & 0.8 & \\underline{7.82} & (\\underline{1016}) & 1.92 & (248) & \\textbf{0.87} & (\\textbf{113})\\\\\n",
      "\\texttt{circuit\\_3} & 0.2 & 2.36 & (120) & \\textbf{0.81} & (\\textbf{24}) & 1.36 & (57)\\\\\n",
      "\\texttt{circuit\\_3} & 0.8 & 2.21 & (120) & \\textbf{0.91} & (\\textbf{24}) & 1.33 & (57)\\\\\n"
     ]
    }
   ],
   "source": [
    "# Nonsymmetric\n",
    "print(\"Matrix & \\$\\\\alpha\\$\")\n",
    "for m in [\"GJ1\", \"GJ2\", \"DE\"]\n",
    "    print(\" & \\\\multicolumn{2}{|c}{\\\\texttt{$(m)}}\")\n",
    "end\n",
    "println(\"\\\\\\\\\")\n",
    "println(\"\\\\hline\")\n",
    "\n",
    "T = CSV.File(\"../result/test5_general.csv\")\n",
    "\n",
    "for i = 3:8\n",
    "    c = collect(T[i])\n",
    "    matname = c[1]\n",
    "    α = c[2]\n",
    "    \n",
    "    print(\"\\\\texttt{$(replace.(matname, \"_\"=>\"\\\\_\"))} & $(α)\")\n",
    "    fastest = argmin(c[3:2:7])\n",
    "    for k = 1:3\n",
    "        if k == fastest\n",
    "            @printf(\" & \\\\textbf{%.2f} & (\\\\textbf{%d})\", c[2k+1], c[2k+2])\n",
    "        elseif c[2k+2] >= 1000\n",
    "            @printf(\" & \\\\underline{%.2f} & (\\\\underline{%d})\", c[2k+1], c[2k+2])\n",
    "        else\n",
    "            @printf(\" & %.2f & (%d)\", c[2k+1], c[2k+2])\n",
    "        end\n",
    "    end\n",
    "    print(\"\\\\\\\\\")\n",
    "    println()\n",
    "end"
   ]
  }
 ],
 "metadata": {
  "kernelspec": {
   "display_name": "Julia 1.5.1",
   "language": "julia",
   "name": "julia-1.5"
  },
  "language_info": {
   "file_extension": ".jl",
   "mimetype": "application/julia",
   "name": "julia",
   "version": "1.5.1"
  }
 },
 "nbformat": 4,
 "nbformat_minor": 4
}
