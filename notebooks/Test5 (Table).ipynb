{
 "cells": [
  {
   "cell_type": "code",
   "execution_count": 1,
   "metadata": {},
   "outputs": [],
   "source": [
    "using CSV\n",
    "using Printf"
   ]
  },
  {
   "cell_type": "code",
   "execution_count": 2,
   "metadata": {},
   "outputs": [
    {
     "name": "stdout",
     "output_type": "stream",
     "text": [
      "Matrix & $\\alpha$ & \\multicolumn{2}{|c|}{\\texttt{GJ1}} & \\multicolumn{2}{|c|}{\\texttt{GJ2}} & \\multicolumn{2}{|c|}{\\texttt{DE}} & \\multicolumn{2}{|c|}{\\texttt{Cauchy}}\\\\\n",
      "\\hline\n",
      "\\texttt{s2rmt3m1} & 0.2 & \\textbf{0.67} & (\\textbf{39}) & 7.30 & (511) & 1.04 & (73) & 1.26 & (21)\\\\\n",
      "\\texttt{s2rmt3m1} & 0.8 & \\underline{14.18} & (\\underline{1000}) & 11.17 & (731) & \\textbf{1.50} & (\\textbf{95}) & 1.90 & (31)\\\\\n",
      "\\texttt{fv3} & 0.2 & 0.31 & (23) & \\textbf{0.30} & (\\textbf{24}) & 0.36 & (30) & 0.42 & (11)\\\\\n",
      "\\texttt{fv3} & 0.8 & 2.10 & (193) & \\textbf{0.32} & (\\textbf{26}) & 0.37 & (29) & 0.38 & (10)\\\\\n",
      "\\texttt{poisson200} & 0.2 & \\textbf{1.39} & (\\textbf{25}) & 1.81 & (41) & 1.58 & (33) & 1.99 & (13)\\\\\n",
      "\\texttt{poisson200} & 0.8 & 14.26 & (352) & 1.99 & (45) & \\textbf{1.65} & (\\textbf{33}) & 1.85 & (12)\\\\\n",
      "\\hline\n",
      "\\texttt{cell1} & 0.2 & 3.89 & (248) & \\underline{15.77} & (\\underline{1016}) & \\textbf{3.50} & (\\textbf{225})\\\\\n",
      "\\texttt{cell1} & 0.8 & \\underline{15.72} & (\\underline{1016}) & \\underline{15.70} & (\\underline{1016}) & \\textbf{3.56} & (\\textbf{225})\\\\\n",
      "\\texttt{TSOPF\\_RS\\_b9\\_c6} & 0.2 & 0.99 & (120) & 1.88 & (248) & \\textbf{0.89} & (\\textbf{113})\\\\\n",
      "\\texttt{TSOPF\\_RS\\_b9\\_c6} & 0.8 & \\underline{7.64} & (\\underline{1016}) & 1.95 & (248) & \\textbf{0.86} & (\\textbf{113})\\\\\n",
      "\\texttt{circuit\\_3} & 0.2 & 2.35 & (120) & \\textbf{0.82} & (\\textbf{24}) & 1.27 & (57)\\\\\n",
      "\\texttt{circuit\\_3} & 0.8 & 2.31 & (120) & \\textbf{0.89} & (\\textbf{24}) & 1.28 & (57)\\\\\n"
     ]
    }
   ],
   "source": [
    "print(\"Matrix & \\$\\\\alpha\\$\")\n",
    "for m in [\"GJ1\", \"GJ2\", \"DE\", \"Cauchy\"]\n",
    "    print(\" & \\\\multicolumn{2}{|c}{\\\\texttt{$(m)}}\")\n",
    "end\n",
    "println(\"\\\\\\\\\")\n",
    "println(\"\\\\hline\")\n",
    "\n",
    "\n",
    "# SPD\n",
    "T = CSV.File(\"../result/test5_spd.csv\")\n",
    "\n",
    "for i = 3:8\n",
    "    c = collect(T[i])\n",
    "    matname = c[1]\n",
    "    α = c[2]\n",
    "    \n",
    "    print(\"\\\\texttt{$(replace.(matname, \"_\"=>\"\\\\_\"))} & $(α)\")\n",
    "    fastest = argmin(c[3:2:9])\n",
    "    for k = 1:4\n",
    "        if k == fastest\n",
    "            @printf(\" & \\\\textbf{%.2f} & (\\\\textbf{%d})\", c[2k+1], c[2k+2])\n",
    "        elseif c[2k+2] >= 1000\n",
    "            @printf(\" & \\\\underline{%.2f} & (\\\\underline{%d})\", c[2k+1], c[2k+2])\n",
    "        else\n",
    "            @printf(\" & %.2f & (%d)\", c[2k+1], c[2k+2])\n",
    "        end\n",
    "    end\n",
    "    print(\"\\\\\\\\\")\n",
    "    println()\n",
    "end\n",
    "println(\"\\\\hline\")\n",
    "\n",
    "\n",
    "# Nonsymmetric\n",
    "T = CSV.File(\"../result/test5_general.csv\")\n",
    "\n",
    "for i = 3:8\n",
    "    c = collect(T[i])\n",
    "    matname = c[1]\n",
    "    α = c[2]\n",
    "    \n",
    "    print(\"\\\\texttt{$(replace.(matname, \"_\"=>\"\\\\_\"))} & $(α)\")\n",
    "    fastest = argmin(c[3:2:7])\n",
    "    for k = 1:3\n",
    "        if k == fastest\n",
    "            @printf(\" & \\\\textbf{%.2f} & (\\\\textbf{%d})\", c[2k+1], c[2k+2])\n",
    "        elseif c[2k+2] >= 1000\n",
    "            @printf(\" & \\\\underline{%.2f} & (\\\\underline{%d})\", c[2k+1], c[2k+2])\n",
    "        else\n",
    "            @printf(\" & %.2f & (%d)\", c[2k+1], c[2k+2])\n",
    "        end\n",
    "    end\n",
    "    print(\"\\\\\\\\\")\n",
    "    println()\n",
    "end"
   ]
  }
 ],
 "metadata": {
  "kernelspec": {
   "display_name": "Julia 1.5.1",
   "language": "julia",
   "name": "julia-1.5"
  },
  "language_info": {
   "file_extension": ".jl",
   "mimetype": "application/julia",
   "name": "julia",
   "version": "1.5.1"
  }
 },
 "nbformat": 4,
 "nbformat_minor": 4
}
