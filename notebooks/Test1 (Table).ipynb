{
 "cells": [
  {
   "cell_type": "code",
   "execution_count": 1,
   "metadata": {},
   "outputs": [],
   "source": [
    "using CSV\n",
    "using Printf"
   ]
  },
  {
   "cell_type": "code",
   "execution_count": 2,
   "metadata": {},
   "outputs": [
    {
     "name": "stdout",
     "output_type": "stream",
     "text": [
      "\\texttt{ex5} & $10^{-7}$ & 4.0189456993 & 4.0189454235 & 4.0501871836\\\\\n",
      "\\texttt{ex5} & $10^{-14}$ & 4.5713980347 & 4.5713979514 & 4.5895014861\\\\\n",
      "\\texttt{pores\\_1} & $10^{-7}$ & 3.9825518994 & 3.9825518993 & 4.0149323090\\\\\n",
      "\\texttt{pores\\_1} & $10^{-14}$ & 4.5506094014 & 4.5506093993 & 4.5690896458\\\\\n"
     ]
    }
   ],
   "source": [
    "D = CSV.File(\"../result/test1_interval.csv\")\n",
    "\n",
    "for row in D\n",
    "    a = collect(row)\n",
    "    matname = a[1]\n",
    "    log10ϵ = a[2]\n",
    "    print(\"\\\\texttt{$(replace.(matname, \"_\"=>\"\\\\_\"))} & \\$10^{$(log10ϵ)}\\$\")\n",
    "    for j = 4:6\n",
    "        @printf(\" & %.10f\", a[j])\n",
    "    end\n",
    "    print(\"\\\\\\\\\")\n",
    "    println()\n",
    "end"
   ]
  }
 ],
 "metadata": {
  "kernelspec": {
   "display_name": "Julia 1.5.1",
   "language": "julia",
   "name": "julia-1.5"
  },
  "language_info": {
   "file_extension": ".jl",
   "mimetype": "application/julia",
   "name": "julia",
   "version": "1.5.1"
  }
 },
 "nbformat": 4,
 "nbformat_minor": 4
}
